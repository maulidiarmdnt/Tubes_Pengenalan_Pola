{
  "cells": [
    {
      "cell_type": "code",
      "execution_count": null,
      "metadata": {
        "colab": {
          "base_uri": "https://localhost:8080/"
        },
        "id": "3wfRnJ4jUHov",
        "outputId": "38fc8a7a-0123-4384-ac51-747744feaeee"
      },
      "outputs": [
        {
          "name": "stdout",
          "output_type": "stream",
          "text": [
            "Drive already mounted at /content/drive; to attempt to forcibly remount, call drive.mount(\"/content/drive\", force_remount=True).\n"
          ]
        }
      ],
      "source": [
        "from google.colab import drive\n",
        "drive.mount('/content/drive')"
      ]
    },
    {
      "cell_type": "markdown",
      "metadata": {
        "id": "jHwWXFDYjEzp"
      },
      "source": [
        "#Pencarian data"
      ]
    },
    {
      "cell_type": "code",
      "execution_count": 2,
      "metadata": {
        "id": "BlmPKuYJWAv-"
      },
      "outputs": [],
      "source": [
        "import os\n",
        "import shutil\n",
        "from sklearn.model_selection import train_test_split\n",
        "import tensorflow as tf\n",
        "from tensorflow.keras.preprocessing.image import ImageDataGenerator"
      ]
    },
    {
      "cell_type": "code",
      "execution_count": 8,
      "metadata": {
        "id": "8fzlGGw_X4qp"
      },
      "outputs": [],
      "source": [
        "import os\n",
        "\n",
        "#base_dir = '/content/drive/MyDrive/pengenalan pola/dog n cat/training_set'\n",
        "#test_dir = '/content/drive/MyDrive/pengenalan pola/dog n cat/test_set'\n",
        "\n",
        "base_dir = '/content/drive/MyDrive/pengenalan pola/dog n cat/training_set/training_set'\n",
        "test_dir = '/content/drive/MyDrive/pengenalan pola/dog n cat/test_set/test_set'\n",
        "\n",
        "train_dir = base_dir\n"
      ]
    },
    {
      "cell_type": "markdown",
      "metadata": {
        "id": "nEEAMPQmjJQo"
      },
      "source": [
        "#Pengambilan ciri"
      ]
    },
    {
      "cell_type": "code",
      "execution_count": 9,
      "metadata": {
        "colab": {
          "base_uri": "https://localhost:8080/"
        },
        "id": "occeIXdUWF3G",
        "outputId": "db22f87c-0e1f-4e19-ae66-372482221c87"
      },
      "outputs": [
        {
          "output_type": "stream",
          "name": "stdout",
          "text": [
            "Found 4728 images belonging to 2 classes.\n",
            "Found 1181 images belonging to 2 classes.\n",
            "Found 0 images belonging to 2 classes.\n"
          ]
        }
      ],
      "source": [
        "train_datagen = ImageDataGenerator(\n",
        "      rescale=1./255,\n",
        "      rotation_range=40,\n",
        "      width_shift_range=0.2,\n",
        "      height_shift_range=0.2,\n",
        "      shear_range=0.2,\n",
        "      zoom_range=0.2,\n",
        "      horizontal_flip=True,\n",
        "      fill_mode='nearest',\n",
        "      validation_split=0.2)\n",
        "\n",
        "train_generator = train_datagen.flow_from_directory(\n",
        "        train_dir,\n",
        "        target_size=(150, 150),\n",
        "        batch_size=20,\n",
        "        class_mode='binary',\n",
        "        subset='training')\n",
        "\n",
        "validation_generator = train_datagen.flow_from_directory(\n",
        "        train_dir,\n",
        "        target_size=(150, 150),\n",
        "        batch_size=20,\n",
        "        class_mode='binary',\n",
        "        subset='validation')\n",
        "\n",
        "\n",
        "test_datagen = ImageDataGenerator(rescale=1./255)\n",
        "\n",
        "test_generator = test_datagen.flow_from_directory(\n",
        "        test_dir,\n",
        "        target_size=(150, 150),\n",
        "        batch_size=20,\n",
        "        class_mode='binary')\n"
      ]
    },
    {
      "cell_type": "markdown",
      "metadata": {
        "id": "bEtvBdBujOHu"
      },
      "source": [
        "#Pemilihan model"
      ]
    },
    {
      "cell_type": "code",
      "execution_count": 10,
      "metadata": {
        "id": "RxyAju__cYwA"
      },
      "outputs": [],
      "source": [
        "model = tf.keras.models.Sequential([\n",
        "    tf.keras.layers.Conv2D(32, (3, 3), activation='relu', input_shape=(150, 150, 3)),\n",
        "    tf.keras.layers.MaxPooling2D(2, 2),\n",
        "    tf.keras.layers.Conv2D(64, (3, 3), activation='relu'),\n",
        "    tf.keras.layers.MaxPooling2D(2, 2),\n",
        "    tf.keras.layers.Conv2D(128, (3, 3), activation='relu'),\n",
        "    tf.keras.layers.MaxPooling2D(2, 2),\n",
        "    tf.keras.layers.Conv2D(128, (3, 3), activation='relu'),\n",
        "    tf.keras.layers.MaxPooling2D(2, 2),\n",
        "    tf.keras.layers.Flatten(),\n",
        "    tf.keras.layers.Dense(512, activation='relu'),\n",
        "    tf.keras.layers.Dense(1, activation='sigmoid')\n",
        "])\n",
        "\n",
        "model.compile(loss='binary_crossentropy',\n",
        "              optimizer=tf.keras.optimizers.Adam(),\n",
        "              metrics=['accuracy'])"
      ]
    },
    {
      "cell_type": "markdown",
      "metadata": {
        "id": "yqL4I_z_jQc9"
      },
      "source": [
        "#Pelatihan"
      ]
    },
    {
      "cell_type": "code",
      "execution_count": 11,
      "metadata": {
        "colab": {
          "base_uri": "https://localhost:8080/"
        },
        "id": "M7XRFcVVcafO",
        "outputId": "94d0bf06-5e16-4441-ae57-5fb09ac5b9af"
      },
      "outputs": [
        {
          "output_type": "stream",
          "name": "stdout",
          "text": [
            "Epoch 1/20\n",
            "237/237 [==============================] - 341s 1s/step - loss: 0.6307 - accuracy: 0.6732 - val_loss: 0.6155 - val_accuracy: 0.6780\n",
            "Epoch 2/20\n",
            "237/237 [==============================] - 311s 1s/step - loss: 0.6179 - accuracy: 0.6777 - val_loss: 0.5968 - val_accuracy: 0.6788\n",
            "Epoch 3/20\n",
            "237/237 [==============================] - 319s 1s/step - loss: 0.6127 - accuracy: 0.6802 - val_loss: 0.5989 - val_accuracy: 0.6780\n",
            "Epoch 4/20\n",
            "237/237 [==============================] - 308s 1s/step - loss: 0.5942 - accuracy: 0.6823 - val_loss: 0.5901 - val_accuracy: 0.6797\n",
            "Epoch 5/20\n",
            "237/237 [==============================] - 309s 1s/step - loss: 0.5927 - accuracy: 0.6813 - val_loss: 0.5626 - val_accuracy: 0.6822\n",
            "Epoch 6/20\n",
            "237/237 [==============================] - 300s 1s/step - loss: 0.5788 - accuracy: 0.6870 - val_loss: 0.5601 - val_accuracy: 0.6856\n",
            "Epoch 7/20\n",
            "237/237 [==============================] - 304s 1s/step - loss: 0.5712 - accuracy: 0.6944 - val_loss: 0.5591 - val_accuracy: 0.7000\n",
            "Epoch 8/20\n",
            "237/237 [==============================] - 309s 1s/step - loss: 0.5637 - accuracy: 0.7039 - val_loss: 0.5531 - val_accuracy: 0.7212\n",
            "Epoch 9/20\n",
            "237/237 [==============================] - 327s 1s/step - loss: 0.5456 - accuracy: 0.7189 - val_loss: 0.5529 - val_accuracy: 0.7000\n",
            "Epoch 10/20\n",
            "237/237 [==============================] - 321s 1s/step - loss: 0.5440 - accuracy: 0.7223 - val_loss: 0.5714 - val_accuracy: 0.6983\n",
            "Epoch 11/20\n",
            "237/237 [==============================] - 323s 1s/step - loss: 0.5355 - accuracy: 0.7204 - val_loss: 0.4929 - val_accuracy: 0.7500\n",
            "Epoch 12/20\n",
            "237/237 [==============================] - 308s 1s/step - loss: 0.5169 - accuracy: 0.7352 - val_loss: 0.5129 - val_accuracy: 0.7339\n",
            "Epoch 13/20\n",
            "237/237 [==============================] - 325s 1s/step - loss: 0.5158 - accuracy: 0.7358 - val_loss: 0.4696 - val_accuracy: 0.7619\n",
            "Epoch 14/20\n",
            "237/237 [==============================] - 311s 1s/step - loss: 0.5075 - accuracy: 0.7479 - val_loss: 0.4752 - val_accuracy: 0.7703\n",
            "Epoch 15/20\n",
            "237/237 [==============================] - 312s 1s/step - loss: 0.4943 - accuracy: 0.7481 - val_loss: 0.5001 - val_accuracy: 0.7381\n",
            "Epoch 16/20\n",
            "237/237 [==============================] - 303s 1s/step - loss: 0.4885 - accuracy: 0.7625 - val_loss: 0.4903 - val_accuracy: 0.7525\n",
            "Epoch 17/20\n",
            "237/237 [==============================] - 323s 1s/step - loss: 0.4748 - accuracy: 0.7644 - val_loss: 0.4910 - val_accuracy: 0.7492\n",
            "Epoch 18/20\n",
            "237/237 [==============================] - 310s 1s/step - loss: 0.4664 - accuracy: 0.7716 - val_loss: 0.4561 - val_accuracy: 0.7898\n",
            "Epoch 19/20\n",
            "237/237 [==============================] - 313s 1s/step - loss: 0.4617 - accuracy: 0.7779 - val_loss: 0.4719 - val_accuracy: 0.7653\n",
            "Epoch 20/20\n",
            "237/237 [==============================] - 309s 1s/step - loss: 0.4476 - accuracy: 0.7908 - val_loss: 0.4344 - val_accuracy: 0.8017\n"
          ]
        }
      ],
      "source": [
        "history = model.fit(\n",
        "    train_generator,\n",
        "    # steps_per_epoch=50,\n",
        "    epochs=20,\n",
        "    validation_data=validation_generator,\n",
        "    validation_steps=validation_generator.samples // validation_generator.batch_size)"
      ]
    },
    {
      "cell_type": "markdown",
      "metadata": {
        "id": "Sk9Rn9vmjWeJ"
      },
      "source": [
        "#Evaluasi"
      ]
    },
    {
      "cell_type": "code",
      "execution_count": 15,
      "metadata": {
        "id": "LSlR62v3cnNf",
        "colab": {
          "base_uri": "https://localhost:8080/",
          "height": 469
        },
        "outputId": "591341c1-eac8-467a-d402-5b6477995734"
      },
      "outputs": [
        {
          "output_type": "display_data",
          "data": {
            "text/plain": [
              "<Figure size 640x480 with 1 Axes>"
            ],
            "image/png": "[encoded data removed]"
          },
          "metadata": {}
        },
        {
          "output_type": "display_data",
          "data": {
            "text/plain": [
              "<Figure size 640x480 with 0 Axes>"
            ]
          },
          "metadata": {}
        }
      ],
      "source": [
        "import matplotlib.pyplot as plt\n",
        "acc = history.history['accuracy']\n",
        "val_acc = history.history['val_accuracy']\n",
        "loss = history.history['loss']\n",
        "val_loss = history.history['val_loss']\n",
        "\n",
        "epochs = range(len(acc))\n",
        "\n",
        "plt.plot(epochs, acc, 'r', label='Training accuracy')\n",
        "plt.plot(epochs, val_acc, 'b', label='Validation accuracy')\n",
        "plt.title('Training and validation accuracy')\n",
        "plt.legend(loc=0)\n",
        "plt.figure()\n",
        "\n",
        "plt.show()"
      ]
    }
  ],
  "metadata": {
    "colab": {
      "provenance": []
    },
    "kernelspec": {
      "display_name": "Python 3",
      "name": "python3"
    },
    "language_info": {
      "name": "python"
    }
  },
  "nbformat": 4,
  "nbformat_minor": 0
}